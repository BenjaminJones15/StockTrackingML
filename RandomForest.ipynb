{
  "nbformat": 4,
  "nbformat_minor": 0,
  "metadata": {
    "colab": {
      "provenance": []
    },
    "kernelspec": {
      "name": "python3",
      "display_name": "Python 3"
    },
    "language_info": {
      "name": "python"
    }
  },
  "cells": [
    {
      "cell_type": "code",
      "execution_count": 2,
      "metadata": {
        "id": "rbghaJ7qHqtx"
      },
      "outputs": [],
      "source": [
        "#Import the Keras Libraries\n",
        "\n",
        "import keras\n",
        "from keras.models import Sequential\n",
        "from keras.layers import CuDNNLSTM, Dense, Dropout, LSTM\n",
        "from keras.optimizers import Adam\n",
        "import numpy as np\n",
        "import matplotlib.pyplot as plt\n",
        "import pandas as pd\n",
        "from sklearn.preprocessing import MinMaxScaler\n",
        "from sklearn.model_selection import train_test_split\n",
        "import tensorflow as tf\n",
        "from sklearn.ensemble import RandomForestRegressor\n",
        "from sklearn.metrics import mean_squared_error, mean_absolute_error, r2_score"
      ]
    },
    {
      "cell_type": "code",
      "source": [
        "data = pd.read_csv('AAPL.csv')\n",
        "\n",
        "# convert date column to datetime format\n",
        "data['Date'] = pd.to_datetime(data['Date'])\n",
        "\n",
        "# extract year and month information and store in separate columns\n",
        "data['Year'] = data['Date'].dt.year\n",
        "data['Month'] = data['Date'].dt.month\n",
        "\n",
        "# drop the original date column\n",
        "data = data.drop('Date', axis=1)\n",
        "\n",
        "# prepare data\n",
        "x = data.drop('Close', axis = 1)\n",
        "y = data['Close']\n",
        "\n",
        "\n",
        "# split data\n",
        "X_train, X_test, y_train, y_test = train_test_split(x, y, train_size=0.2, random_state=42)\n",
        "\n",
        "\n",
        "\n",
        "print(X_train)\n",
        "print(X_test)\n",
        "\n",
        "\n",
        "rf = RandomForestRegressor(n_estimators=100, max_depth=5, random_state=42)\n",
        "\n",
        "rf.fit(X_train, y_train)\n",
        "\n",
        "y_pred = rf.predict(X_test)\n",
        "\n",
        "mse = mean_squared_error(y_test, y_pred)\n",
        "\n",
        "print(mse)\n",
        "\n",
        "# create a range of numbers from 1 to the length of y_test\n",
        "x_ax = range(len(y_test))\n",
        "\n",
        "# plot the actual and predicted values\n",
        "plt.plot(x_ax, y_test, label=\"original\")\n",
        "plt.plot(x_ax, y_pred, label=\"predicted\")\n",
        "\n",
        "# set the axis labels and title\n",
        "plt.xlabel(\"test data points\")\n",
        "plt.ylabel(\"AAPL stock price\")\n",
        "plt.title(\"Random Forest Regression - Mean Squared Error: \" + str(round(mse, 2)))\n",
        "\n",
        "# add legend and show the plot\n",
        "plt.legend()\n",
        "plt.show()\n",
        "\n",
        "plt.plot(y_test, y_pred)\n",
        "plt.show()\n",
        "\n",
        "\n",
        "\n",
        "\n",
        "\n",
        "\n",
        "\n",
        "\n"
      ],
      "metadata": {
        "colab": {
          "base_uri": "https://localhost:8080/",
          "height": 240
        },
        "id": "UX_rlpYiHv9I",
        "outputId": "e03ef0fd-9457-4ff0-e68b-751c47da1152"
      },
      "execution_count": 1,
      "outputs": [
        {
          "output_type": "error",
          "ename": "NameError",
          "evalue": "ignored",
          "traceback": [
            "\u001b[0;31m---------------------------------------------------------------------------\u001b[0m",
            "\u001b[0;31mNameError\u001b[0m                                 Traceback (most recent call last)",
            "\u001b[0;32m<ipython-input-1-f183c479ebc9>\u001b[0m in \u001b[0;36m<cell line: 1>\u001b[0;34m()\u001b[0m\n\u001b[0;32m----> 1\u001b[0;31m \u001b[0mdata\u001b[0m \u001b[0;34m=\u001b[0m \u001b[0mpd\u001b[0m\u001b[0;34m.\u001b[0m\u001b[0mread_csv\u001b[0m\u001b[0;34m(\u001b[0m\u001b[0;34m'AAPL.csv'\u001b[0m\u001b[0;34m)\u001b[0m\u001b[0;34m\u001b[0m\u001b[0;34m\u001b[0m\u001b[0m\n\u001b[0m\u001b[1;32m      2\u001b[0m \u001b[0;34m\u001b[0m\u001b[0m\n\u001b[1;32m      3\u001b[0m \u001b[0;31m# convert date column to datetime format\u001b[0m\u001b[0;34m\u001b[0m\u001b[0;34m\u001b[0m\u001b[0m\n\u001b[1;32m      4\u001b[0m \u001b[0mdata\u001b[0m\u001b[0;34m[\u001b[0m\u001b[0;34m'Date'\u001b[0m\u001b[0;34m]\u001b[0m \u001b[0;34m=\u001b[0m \u001b[0mpd\u001b[0m\u001b[0;34m.\u001b[0m\u001b[0mto_datetime\u001b[0m\u001b[0;34m(\u001b[0m\u001b[0mdata\u001b[0m\u001b[0;34m[\u001b[0m\u001b[0;34m'Date'\u001b[0m\u001b[0;34m]\u001b[0m\u001b[0;34m)\u001b[0m\u001b[0;34m\u001b[0m\u001b[0;34m\u001b[0m\u001b[0m\n\u001b[1;32m      5\u001b[0m \u001b[0;34m\u001b[0m\u001b[0m\n",
            "\u001b[0;31mNameError\u001b[0m: name 'pd' is not defined"
          ]
        }
      ]
    }
  ]
}